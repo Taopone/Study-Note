{
 "cells": [
  {
   "cell_type": "markdown",
   "metadata": {},
   "source": [
    "# 第一道图的题目，有些感悟\n",
    "## 1 必须要有一个visited字典，记录已访问的节点\n",
    "## 2 相比于二叉树的left与right递归，图的递归是遍历邻居节点递归下去，还要分情况是否访问过"
   ]
  },
  {
   "cell_type": "markdown",
   "metadata": {},
   "source": [
    "# 深度优先搜索"
   ]
  },
  {
   "cell_type": "code",
   "execution_count": 1,
   "metadata": {},
   "outputs": [],
   "source": [
    "class Solution:\n",
    "    def __init__(self,):\n",
    "        self.visited = {}\n",
    "    def cloneGraph(self, node: 'Node') -> 'Node':\n",
    "        if not node:\n",
    "            return node\n",
    "        if node in self.visited:\n",
    "            return self.visited[node] \n",
    "        if node not in self.visited:\n",
    "            current_node = Node(node.val)\n",
    "        self.visited[node] = current_node\n",
    "        current_node.neighbors = [self.cloneGraph(n) for n in node.neighbors]\n",
    "        return current_node"
   ]
  },
  {
   "cell_type": "markdown",
   "metadata": {},
   "source": [
    "# 广度优先搜索 "
   ]
  },
  {
   "cell_type": "code",
   "execution_count": 2,
   "metadata": {},
   "outputs": [],
   "source": [
    "\"\"\"\n",
    "# Definition for a Node.\n",
    "class Node:\n",
    "    def __init__(self, val = 0, neighbors = None):\n",
    "        self.val = val\n",
    "        self.neighbors = neighbors if neighbors is not None else []\n",
    "\"\"\"\n",
    "\n",
    "class Solution:\n",
    "    def cloneGraph(self, node: 'Node') -> 'Node':\n",
    "        if not node: return node\n",
    "        queue = [node]\n",
    "        visited = dict()\n",
    "        visited[node] = Node(node.val)\n",
    "        while queue:\n",
    "            node2 = queue.pop(0)\n",
    "            for n in node2.neighbors:\n",
    "                if n not in visited:\n",
    "                    queue.append(n)\n",
    "                    visited[n] = Node(n.val)\n",
    "                visited[node2].neighbors.append(visited[n])\n",
    "        return visited[node]"
   ]
  },
  {
   "cell_type": "code",
   "execution_count": null,
   "metadata": {},
   "outputs": [],
   "source": []
  }
 ],
 "metadata": {
  "kernelspec": {
   "display_name": "Python 3",
   "language": "python",
   "name": "python3"
  },
  "language_info": {
   "codemirror_mode": {
    "name": "ipython",
    "version": 3
   },
   "file_extension": ".py",
   "mimetype": "text/x-python",
   "name": "python",
   "nbconvert_exporter": "python",
   "pygments_lexer": "ipython3",
   "version": "3.7.6"
  }
 },
 "nbformat": 4,
 "nbformat_minor": 4
}
