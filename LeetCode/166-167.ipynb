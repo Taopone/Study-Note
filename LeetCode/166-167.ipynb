{
 "cells": [
  {
   "cell_type": "markdown",
   "metadata": {},
   "source": [
    "# 第166题第一种解答（广度优先搜索）"
   ]
  },
  {
   "cell_type": "code",
   "execution_count": 2,
   "metadata": {},
   "outputs": [],
   "source": [
    "class Solution:\n",
    "    def connect(self, root: 'Node') -> 'Node':\n",
    "        if not root: return root\n",
    "        queue = [root]\n",
    "        while len(queue) > 0:\n",
    "            tmp = []\n",
    "            for node in queue:\n",
    "                if node.left:\n",
    "                    tmp.append(node.left)\n",
    "                    tmp.append(node.right)\n",
    "                else:\n",
    "                    return root\n",
    "            for i in range(len(tmp)-1):\n",
    "                tmp[i].next = tmp[i+1]\n",
    "            queue = tmp"
   ]
  },
  {
   "cell_type": "markdown",
   "metadata": {},
   "source": [
    "# 第166题第二种解答（递归版且运用链表）"
   ]
  },
  {
   "cell_type": "code",
   "execution_count": 3,
   "metadata": {},
   "outputs": [],
   "source": [
    "class Solution:\n",
    "    def connect(self, root: 'Node') -> 'Node':\n",
    "        if not root or not root.left:\n",
    "            return root\n",
    "        root.left.next = root.right\n",
    "        if root.next:\n",
    "            root.right.next = root.next.left\n",
    "        self.connect(root.left)\n",
    "        self.connect(root.right)\n",
    "        return root"
   ]
  },
  {
   "cell_type": "markdown",
   "metadata": {},
   "source": [
    "# 第167题（递归版且运用链表）\n",
    "## 记得先递归右子树递归左子树"
   ]
  },
  {
   "cell_type": "code",
   "execution_count": 6,
   "metadata": {},
   "outputs": [],
   "source": [
    "class Solution:\n",
    "    def connect(self, root: 'Node') -> 'Node':\n",
    "        if not root:\n",
    "            return root\n",
    "        if root.left and root.right:\n",
    "            root.left.next = root.right\n",
    "        if root.next:\n",
    "            last_node = self.last_node(root)\n",
    "            next_node = self.next_node(root.next)\n",
    "            if last_node and next_node:\n",
    "                last_node.next = next_node\n",
    "        \n",
    "        self.connect(root.right)\n",
    "        self.connect(root.left)\n",
    "        return root\n",
    "    \n",
    "    def last_node(self, root):\n",
    "        if root.right:\n",
    "            return root.right\n",
    "        elif root.left:\n",
    "            return root.left\n",
    "        return None\n",
    "    def next_node(self, root):\n",
    "        while root:\n",
    "            if root.left:\n",
    "                return root.left\n",
    "            elif root.right:\n",
    "                return root.right\n",
    "            else:\n",
    "                root = root.next\n",
    "        return None"
   ]
  },
  {
   "cell_type": "markdown",
   "metadata": {},
   "source": [
    "# 链表版本"
   ]
  },
  {
   "cell_type": "code",
   "execution_count": 10,
   "metadata": {},
   "outputs": [],
   "source": [
    "class Solution:\n",
    "    def connect(self, root: 'Node') -> 'Node':\n",
    "        first = root\n",
    "        while first:\n",
    "            head = tail = Node(None)\n",
    "            cur = first\n",
    "            while cur:\n",
    "                if cur.left:\n",
    "                    tail.next = cur.left\n",
    "                    tail = tail.next\n",
    "                if cur.right:\n",
    "                    tail.next = cur.right\n",
    "                    tail = tail.next\n",
    "                cur = cur.next\n",
    "            first = head.next\n",
    "        return root\n"
   ]
  },
  {
   "cell_type": "code",
   "execution_count": null,
   "metadata": {},
   "outputs": [],
   "source": []
  },
  {
   "cell_type": "code",
   "execution_count": null,
   "metadata": {},
   "outputs": [],
   "source": []
  }
 ],
 "metadata": {
  "kernelspec": {
   "display_name": "Python 3",
   "language": "python",
   "name": "python3"
  },
  "language_info": {
   "codemirror_mode": {
    "name": "ipython",
    "version": 3
   },
   "file_extension": ".py",
   "mimetype": "text/x-python",
   "name": "python",
   "nbconvert_exporter": "python",
   "pygments_lexer": "ipython3",
   "version": "3.7.6"
  }
 },
 "nbformat": 4,
 "nbformat_minor": 4
}
